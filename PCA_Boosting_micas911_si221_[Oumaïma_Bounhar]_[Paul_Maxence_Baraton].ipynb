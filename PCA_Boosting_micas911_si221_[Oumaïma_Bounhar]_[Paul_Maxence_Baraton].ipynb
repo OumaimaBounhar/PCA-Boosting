{
  "cells": [
    {
      "cell_type": "markdown",
      "metadata": {
        "id": "hXc1XtEm7U-J"
      },
      "source": [
        "# Homework 8: Principal Component Analysis & Boosting\n",
        "\n",
        "In this homework we will implement the Principal Component Analisys algorithm. It is a simple yet powerful technique to perform Dimensionality Reduction\n",
        "on data.\n",
        "\n",
        "We will also apply AdaBoost for classification on the titanic dataset of HW6.\n",
        "\n",
        "We use as reference the chapter 9 and chapter 23 of Understanding Machine Learning.\n",
        "\n",
        "Copy this notebook and insert the corresponding names on the file.\n",
        "\n",
        "\n",
        "## Important!\n",
        "\n",
        "\n",
        "1.   **You shall send this TP by mail with the subject: [HW8][Student_1][MICAS][Student_2][SI221]** (Adapt the subject accordingly to your specific situation).\n",
        "\n",
        "2.   **This exercise can be done in pairs. Please, leave all of your answers on this notebook, which will be the only file you will have to deliver.**\n",
        "\n",
        "3. **You have one week to deliver the homework.**\n",
        "\n",
        "4. **Comment your code. If you leave an algorithm unfinished or you believe it may have a problem handling specific cases, we will consider this for evaluation.**\n",
        "\n",
        "5. **We strongly encourage discussion between students as long as you own your solution. Copy pasting the solution from internet/colleagues will not be tolerated.**\n",
        "\n",
        "\n",
        "After completing the notebook you must download it and manually send it before the deadline by email to the email: si221.micas911@gmail.com\n",
        "\n",
        "Copy this notebook and insert the corresponding names on the file.\n",
        "\n",
        "**If you have any questions feel free to send an email to the TA's:**\n",
        "\n",
        "### julien.beguinot@telecom-paris.fr\n",
        "\n",
        "### breno.skuk@gmail.com\n",
        "\n",
        "**Good luck!**\n"
      ]
    },
    {
      "cell_type": "markdown",
      "source": [
        "# Part 1: From theory to algorithm\n",
        "## PCA in a nutshell\n",
        "\n",
        "Dimensionality reduction is the process of processing data in a higher dimensional\n",
        "space and mapping it into a new space whose dimensionality is smaller or equal. For data classification we do this because the projected data may be more interpretable (thus as a rudimentary data analysis tool) or for efficiency reasons. Generally PCA has multiple uses, for example as a data compression algorithm.\n",
        "\n",
        "We will assume data lives in an euclidian space and treat the reduction as the application of a linear transformation\n",
        "to the original data.\n",
        "\n",
        "Thus, if the original data is in $\\mathbb{R}^d$ and we want to embed it into $\\mathbb{R}^p$ $(p \\leq d)$ then we would like to find a matrix\n",
        "$W \\in \\mathbb{R}^{p\\times d}$ that induces\n",
        "the desired dimensionality reduction mapping $x ↦ Wx$. We call $W$ the embedding matrix.\n",
        "\n",
        "\n",
        "A property we would like $W$ to have for is that it enables a reasonable recovery of the original $x$ from the lower dimensional representation $\\tilde{x} \\in \\mathbb{R}^p$. This implies the existance of a matrix $\\mathbf{P} \\in \\mathbb{R}^{d\\times p}$ such that $x \\approx \\mathbf{P}\\tilde{x} = \\mathbf{P}Wx$.\n",
        "\n",
        "Let $\\mathbf{P} \\in \\mathbb{R}^{d \\times p}$ be a recovery matrix inducing the reconstruction mapping $\\tilde{x} ↦ \\mathbf{P}\\tilde{x}$ from $\\mathbb{R}^p$ to  $\\mathbb{R}^d$.\n",
        "\n",
        "For a single sample, we define the sample distortion using the squared euclidian distance as: $$||x - \\mathbf{P}\\tilde{x}||^2_2 = ||x - \\mathbf{P}Wx||^2_2$$\n",
        "\n",
        "Let $\\mathbf{x}_1,\\ldots,\\mathbf{x}_n$ be $n$ vectors in $\\mathbb{R}^d$ that represent $n$ samples described by $d$ features.\n",
        "\n",
        "Our objective is to find the embedding matrix $W$ and the reconstruction matrix $\\mathbf{P}$ by minimizing the distortion on every sample:\n",
        "\n",
        "\\begin{align} \\tag{1}\n",
        "\t\\mathbf{P},W = \\underset{W\\in\\mathbb{R}^{p,d},\\mathbf{P}\\in\\mathbb{R}^{d,p}}{\\text{argmin}} \\sum\\limits_{i=1}^n \\left\\|\\mathbf{x}_i - \\mathbf{P} W\\mathbf{x}_i\\right\\|^2_2\n",
        "\\end{align}\n",
        "\n",
        "Fortunately, the solution to $(1)$ follows a specific form that we enunciate in the following theorem:\n",
        "\n",
        "\n",
        "\n",
        "**PCA Theorem:** Let $W,\\mathbf{P}$ be a solution to that minimizes $(1)$. Then the collumns of $\\mathbf{P}$ are orthonormal (namely, $\\mathbf{P}^T\\mathbf{P} = \\mathbb{I}$) and $W = \\mathbf{P}^T$. Furthermore, let $A = \\sum^n_{i=1}\\mathbf{\\bar x_i} \\mathbf{\\bar x_i}^T$. Then, the solution of $(1)$ is given by setting as collumns of $\\mathbf{P}$ the $p$ eigenvectors of $A$ that correspond to the respective $p$ highest eigenvalues.\n",
        "\n",
        "We rewrite problem $(1)$ as:\n",
        "\n",
        "\\begin{align} \\tag{2}\n",
        "\t\\mathbf{P} = \\underset{\\mathbf{P}\\in\\mathbb{R}^{d\\times p}}{\\text{argmin}} \\sum\\limits_{i=1}^n \\left\\|\\mathbf{x}_i - \\mathbf{P}\\mathbf{P}^T\\mathbf{x}_i\\right\\|^2_2\n",
        "\\end{align}\n",
        "\n",
        "**How is this possible?**: Remember that since $A$ is a real symetric matrix, it's eigenvalues are real and we can perform the spectral decomposition $VDV^T$. The proof of the the PCA theorem uses this to find the argmin and the minima of $(1)$ and show that they are equivalent to that of $(2)$.\n",
        "\n",
        "Below we obtain the analytical solution by computing the eigendecomposition of  $A$. Algorithmically, PCA consists of the following steps:\n",
        "\n",
        "* Center the data before applying PCA, i.e.: compute the sample mean $\\mathbf{\\mu}\\!=\\!\\frac{1}{n}\\sum_{i=1}^n \\mathbf{x}_i$ and then $\\mathbf{\\bar x}_i\\!=\\!\\mathbf{x}_i-\\mathbf{\\mu}$ in order to compute the mean-subtracted feature matrix $\\mathbf{\\bar X}\\!=\\!\\left[\\mathbf{\\bar x}_1,\\ldots,\\mathbf{\\bar x}_n\\right]^T \\in \\mathbb{R}^{n\\times d}$.\n",
        "\n",
        "* Compute the eigendecomposition of $ A = \\sum^n_{i=1}\\mathbf{\\bar x_i} \\mathbf{\\bar x_i}^T = \\mathbf{\\bar{X}^T\\bar{X}}$ to identify the principal components.\n",
        "\n",
        "* Obtain the eigenvectors $[u_1, ..., u_n]$ and corresponding eigenvalues $[\\lambda_1, ..., \\lambda_n]$ of $A$.\n",
        "\n",
        "* Form a projection matrix $\\mathbf{P}\\in\\mathbb{R}^{d\\times p}$ where the $p$ eigenvectors associated to the $p$ largest eigenvalues are the collumns of $\\mathbf{P}$.\n",
        "\n",
        "* Transform each of the mean-subtracted data samples $\\bar{x} \\in \\bar{X}$ to obtain lower-dimensional data through: $\\mathbf{z}=\\mathbf{P}^T{\\bar x}\\in\\mathbb{R}^{p}$.\n",
        "\n",
        "* The approximation of the input can be recovered by the following transformation: $\\mathbf{\\tilde x}\\!=\\mathbf{P}\\mathbf{z} + \\mathbf{\\mu}$\n",
        "\n",
        "\n",
        "## Another solution: If $n \\leq d$\n",
        "\n",
        "\n",
        "\n",
        "In some situations the original dimensionality of the data is much larger than\n",
        "the number of examples $n$. The computational complexity of calculating the\n",
        "PCA solution as described previously is $O(n^3)$ (for calculating eigenvalues of $A$). Chapter 23 of Understanding Machine Learning discusses how to circunvent this by calculating the eigenvalues/eigenvectors of $B = \\mathbf{\\bar{X}\\bar{X}^T}$ (whereas before we did $A = \\mathbf{\\bar{X}^T\\bar{X}}$).\n",
        "\n",
        "$ B \\in \\mathbb{R}^{n,n} $ is the matrix whose $ i,j $ element equals $ \\langle x_i, x_j \\rangle $. Suppose that $ \\mathbf{u} $ is an eigenvector of $ B $. That is, $ B\\mathbf{u} = \\lambda \\mathbf{u} $ for some $ \\lambda \\in \\mathbb{R} $. Multiplying the equality by $ \\mathbf{X}^T $ and using the definition of $ B $ we obtain $ \\mathbf{X}^T \\mathbf{X} \\mathbf{u} = \\lambda \\mathbf{X}^T \\mathbf{u} $. But, using the definition of $ A $, we get that $ A(\\mathbf{X}^T \\mathbf{u}) = \\lambda (\\mathbf{X}^T \\mathbf{u}) $. Thus, $ \\frac{\\mathbf{X}^T \\mathbf{u}}{\\| \\mathbf{X}^T \\mathbf{u} \\|} $ is an eigenvector of $ A $ with eigenvalue of $ \\lambda $.\n",
        "\n",
        "\n",
        "\n",
        "## (Interesting to know...) Explained variance:\n",
        "\n",
        "The explained variance is a measure of the proportion to which a mathematical model accounts for the variation (dispersion) of a given data set.\n",
        "\n",
        "In PCA, the explained variance by a single eigenvalue component is expressed as the of ratio of  the selected eigenvalue and sum of eigenvalues of all remaining eigenvectors. This measure appears as a metric of the sklearn implementation.\n",
        "\n",
        "Refer to https://scikit-learn.org/stable/modules/generated/sklearn.decomposition.PCA.html for more information.\n",
        "\n",
        "## Shape of matrices and vectors:\n",
        "\n",
        "When implementing the PCA algorithm remember that we use the following conventions:\n",
        "\n",
        "* $x_i$ has shape $[d,1]$ and is a collumn vector.\n",
        "* $\\mathbf{P}$ has shape $[d,p]$\n",
        "* $W = \\mathbf{P}^T$ has shape $[p,d]$\n",
        "* $X = [x_1, ..., x_i,..., x_n]^T$ has shape $[n,d]$\n",
        "* $A = X^TX$ has shape $[d,d]$\n",
        "* $B = XX^T$ has shape $[n,n]$"
      ],
      "metadata": {
        "id": "i8qDXbUobLrr"
      }
    },
    {
      "cell_type": "markdown",
      "source": [
        "## Question 1:\n",
        "(a) Suppose you have want to use PCA on data before training a Pereceptron for binary classification. Discuss how you could perform this as a data pre-processing step. How do we test over data?\n",
        "\n",
        "(b) In the context of the previous item, what would happen in the case we obtain access to new training data? Should PCA be performed again or can we use the resulting projection of the initial analysis? How would this impact your analysis?"
      ],
      "metadata": {
        "id": "9ugXZdcFnnUt"
      }
    },
    {
      "cell_type": "markdown",
      "source": [
        "**ANSWER (A):**"
      ],
      "metadata": {
        "id": "8oo_1bursrZU"
      }
    },
    {
      "cell_type": "markdown",
      "source": [
        "\n",
        "**ANSWER (B):**"
      ],
      "metadata": {
        "id": "vbX0MIMUZKw_"
      }
    },
    {
      "cell_type": "markdown",
      "source": [
        "# Question 2:\n",
        "\n",
        "Implement the following functions to obtain the Principal Component Analysis:"
      ],
      "metadata": {
        "id": "bezaXIxAnER6"
      }
    },
    {
      "cell_type": "code",
      "source": [
        "import numpy as np\n",
        "import pandas as pd\n",
        "import matplotlib.pyplot as plt"
      ],
      "metadata": {
        "id": "C16wl8Eq-otr"
      },
      "execution_count": null,
      "outputs": []
    },
    {
      "cell_type": "markdown",
      "source": [
        "**Obtaining eigenvectors and eigenvalues with numpy:**\n",
        "\n",
        "Please make yourself habituated with the theoretical conventions and the numpy functions. Below we manipulate data to obtain the principal eigenvector of A from the principal eigenvector of B.\n",
        "\n",
        "Notice that here we have to explicitly chose the eigenvectors of $A$ by taking the transpose of what is returned by numpy so things work in accordance to the theory.\n",
        "\n",
        "Specifically, when you use:\n",
        "```\n",
        "eig_A, eigenvec_A = numpy.linalg.eig(A)\n",
        "```\n",
        "The eigenvectors $Av = \\lambda v$ are returned\n",
        "as columns in the second output. That is, each column of eigenvec_A is an eigenvector of matrix A.\n",
        "The first eigenvector (associated with the first eigenvalue) is eigenvec_A[:, 0], the second eigenvector is eigenvec_A[:, 1], and so on.\n",
        "\n",
        "Please proceed only when you understood what is happening on the code below:"
      ],
      "metadata": {
        "id": "0Dbv1Ymn2M3X"
      }
    },
    {
      "cell_type": "code",
      "source": [
        "# Example\n",
        "print('A and B from X:')\n",
        "X = np.array([[4, -2, 93],\n",
        "              [1,  1, 2]])\n",
        "A = X.T@X\n",
        "B = X@X.T\n",
        "print(f'Dimension of X: {X.shape}')\n",
        "print(f'Dimension of A: {A.shape}')\n",
        "print(f'Dimension of B: {B.shape}')"
      ],
      "metadata": {
        "colab": {
          "base_uri": "https://localhost:8080/"
        },
        "id": "F0CUjV5X2Kqv",
        "outputId": "ab3a913d-28dd-4baa-f00f-9f6b209453a7"
      },
      "execution_count": null,
      "outputs": [
        {
          "output_type": "stream",
          "name": "stdout",
          "text": [
            "A and B from X:\n",
            "Dimension of X: (2, 3)\n",
            "Dimension of A: (3, 3)\n",
            "Dimension of B: (2, 2)\n"
          ]
        }
      ]
    },
    {
      "cell_type": "markdown",
      "source": [
        "You can use numpy to calculate the eigenvector decomposition of A and B"
      ],
      "metadata": {
        "id": "B3-hxUjk9evJ"
      }
    },
    {
      "cell_type": "code",
      "source": [
        "# Compute the eigenvalues and eigenvectors of A and B\n",
        "eig_A, eigenvec_A = np.linalg.eig(A)\n",
        "eig_B, eigenvec_B = np.linalg.eig(B)\n",
        "\n",
        "# Attention to the convention we used for left and right eigenvectors of A!\n",
        "v = eigenvec_A.T[0]\n",
        "lamb_A = eig_A[0]\n",
        "u = eigenvec_B.T[0]\n",
        "lamb_B = eig_B[0]\n",
        "\n",
        "print(f'Principal eigenvalue of A = {lamb_A}')\n",
        "print(f'Principal eigenvalue of B = {lamb_B}')\n",
        "\n",
        "print(f'A@v = {A @ v} ; v*lamb = {v*lamb_A}')\n",
        "print(f'B@u = {B @ u} ; u*lamb = {u*lamb_B}')"
      ],
      "metadata": {
        "colab": {
          "base_uri": "https://localhost:8080/"
        },
        "id": "4N-PvkQ08351",
        "outputId": "96a82e76-8361-450e-8c73-065394966b4a"
      },
      "execution_count": null,
      "outputs": [
        {
          "output_type": "stream",
          "name": "stdout",
          "text": [
            "Principal eigenvalue of A = 8673.077960318553\n",
            "Principal eigenvalue of B = 8673.077960318555\n",
            "A@v = [ -374.44945958   184.19530005 -8663.03301387] ; v*lamb = [ -374.44945958   184.19530005 -8663.03301387]\n",
            "B@u = [8671.03828836  188.08590458] ; u*lamb = [8671.03828836  188.08590458]\n"
          ]
        }
      ]
    },
    {
      "cell_type": "markdown",
      "source": [
        "Now lets obtain a principal eigenvector of $A$ from a principal eigenvector of $B$ as we described on the theoretical part."
      ],
      "metadata": {
        "id": "kO9YfoTd9c25"
      }
    },
    {
      "cell_type": "code",
      "source": [
        "# calculate principal eigenvector of A using principal eigenvector of B:\n",
        "v_from_B = X.T@u/np.linalg.norm(X.T@u,ord = 2)\n",
        "print(f'Principal eigenvector of A from principal eigenvector of B:\\n {v_from_B}')\n",
        "print(f'Principal eigenvector of A from eigenvalue decomposition:\\n {v}')"
      ],
      "metadata": {
        "colab": {
          "base_uri": "https://localhost:8080/"
        },
        "id": "5YZgbdVs8olV",
        "outputId": "318ef7d0-605e-4e56-cdc8-22a2b195cba3"
      },
      "execution_count": null,
      "outputs": [
        {
          "output_type": "stream",
          "name": "stdout",
          "text": [
            "Principal eigenvector of A from principal eigenvector of B:\n",
            " [ 0.04317377 -0.02123759  0.99884182]\n",
            "Principal eigenvector of A from eigenvalue decomposition:\n",
            " [-0.04317377  0.02123759 -0.99884182]\n"
          ]
        }
      ]
    },
    {
      "cell_type": "markdown",
      "source": [
        "Now its up to you!"
      ],
      "metadata": {
        "id": "wTQpjIls9vO2"
      }
    },
    {
      "cell_type": "markdown",
      "source": [
        "### Center data\n"
      ],
      "metadata": {
        "id": "FobRpxXMjJSp"
      }
    },
    {
      "cell_type": "code",
      "source": [
        "def centerData(X):\n",
        "  \"\"\"\n",
        "  Center data by subtracting mean\n",
        "\n",
        "  Parameters:\n",
        "  -----------\n",
        "  `X` : Input data [d x N]\n",
        "\n",
        "  Returns:\n",
        "  --------\n",
        "  `X_centered` : Centered data [d x N]\n",
        "\n",
        "  \"\"\"\n",
        "  column_means = np.mean(X, axis=0)  # Calculate column means\n",
        "  X_centered = X - column_means  # Subtract column means along each column\n",
        "  return X_centered"
      ],
      "metadata": {
        "id": "LzS0WOpHjSSY"
      },
      "execution_count": null,
      "outputs": []
    },
    {
      "cell_type": "code",
      "source": [
        "X = [ [1,1],[2,2] ]\n",
        "X_centered = centerData(X)\n",
        "print(X_centered)"
      ],
      "metadata": {
        "colab": {
          "base_uri": "https://localhost:8080/"
        },
        "id": "5Xe8qdztEmOv",
        "outputId": "559a0a45-ca4f-4eaa-9fb8-0110b72d2979"
      },
      "execution_count": null,
      "outputs": [
        {
          "output_type": "stream",
          "name": "stdout",
          "text": [
            "[[-0.5 -0.5]\n",
            " [ 0.5  0.5]]\n"
          ]
        }
      ]
    },
    {
      "cell_type": "markdown",
      "metadata": {
        "id": "KWsC8TAU7U-U"
      },
      "source": [
        "### Covariance matrix and Eigendecomposition\n",
        "\n",
        "Obs: The covarianc matrix is also known as Gram matrix."
      ]
    },
    {
      "cell_type": "code",
      "execution_count": null,
      "metadata": {
        "id": "AHb1VfEy7U-V"
      },
      "outputs": [],
      "source": [
        "def getCov(X):\n",
        "  \"\"\"\n",
        "  Compute the covariance matrix of data\n",
        "\n",
        "  Parameters:\n",
        "  -----------\n",
        "  `X` : Input data [d x N]\n",
        "\n",
        "  Returns:\n",
        "  --------\n",
        "  `A` : Covariance matrix\n",
        "\n",
        "  \"\"\"\n",
        "  A = np.cov(X.T)\n",
        "  return A\n",
        "\n",
        "def getEigenDecomp(A):\n",
        "  \"\"\"\n",
        "  Compute the eigendecomposition of covariance matrix\n",
        "\n",
        "  Parameters:\n",
        "  -----------\n",
        "  `A` : Covariance matrix [d x d]\n",
        "\n",
        "  Returns:\n",
        "  --------\n",
        "  `eigenval` : Computed eigenvalues\n",
        "  `eigenvec` : Computed eigenvectors\n",
        "\n",
        "  \"\"\"\n",
        "  eigenval, eigenvec = np.linalg.eig(A)\n",
        "  return eigenval, eigenvec"
      ]
    },
    {
      "cell_type": "markdown",
      "metadata": {
        "id": "evd3wtZC7U-Y"
      },
      "source": [
        "### Principal Components"
      ]
    },
    {
      "cell_type": "code",
      "execution_count": null,
      "metadata": {
        "id": "VSYZT8Md7U-Z"
      },
      "outputs": [],
      "source": [
        "def get_p_principal_components(A, p):\n",
        "  \"\"\"\n",
        "  Select the p principal components of covariance matrix A.\n",
        "  Using the percentage of variance given eigenvalues.\n",
        "\n",
        "  Parameters:\n",
        "  -----------\n",
        "  `A` : Covariance matrix [d x d]\n",
        "  `p` : number of principal components\n",
        "\n",
        "  Returns:\n",
        "  --------\n",
        "  `components` : Principal components of A [p]\n",
        "  `pct_variance` : Percentage of variance explained by components\n",
        "\n",
        "  \"\"\"\n",
        "  eigenval, eigenvec = getEigenDecomp(A)\n",
        "\n",
        "  components = eigenvec[:,:p]\n",
        "  lambda_A = eigenval[:p]\n",
        "  pct_variance = (lambda_A/np.sum(lambda_A))*100\n",
        "\n",
        "  return components, pct_variance"
      ]
    },
    {
      "cell_type": "code",
      "source": [
        "def get_P(A, p):\n",
        "  \"\"\"\n",
        "  Calculate the projection matrix P [dxp]\n",
        "\n",
        "  Parameters:\n",
        "  -----------\n",
        "  `A` : Covariance matrix [d x d]\n",
        "  `p` : number of principal components\n",
        "\n",
        "  Returns:\n",
        "  --------\n",
        "  `P` : projection matrix\n",
        "\n",
        "  \"\"\"\n",
        "  components, pct_variance = get_p_principal_components(A,p)\n",
        "  P = components.T\n",
        "  return P"
      ],
      "metadata": {
        "id": "Qs6r7j76MxaE"
      },
      "execution_count": null,
      "outputs": []
    },
    {
      "cell_type": "markdown",
      "metadata": {
        "id": "QbjWqUFd7U-e"
      },
      "source": [
        "### PCA function"
      ]
    },
    {
      "cell_type": "code",
      "execution_count": null,
      "metadata": {
        "id": "Pc31dW5b7U-g"
      },
      "outputs": [],
      "source": [
        "def get_PCA(X, p):\n",
        "  \"\"\"\n",
        "  Return the PCA of input data X\n",
        "\n",
        "  Parameters:\n",
        "  -----------\n",
        "  `X` : Input data [d x N]\n",
        "  `p` : number of principal components\n",
        "\n",
        "\n",
        "  Returns:\n",
        "  --------\n",
        "  `components` : Principal components [p x N]\n",
        "\n",
        "  \"\"\"\n",
        "  A = getCov(X)\n",
        "  eigenval, eigenvec = getEigenDecomp(A)\n",
        "  components, pct_variance = get_p_principal_components(A,p)\n",
        "  return components"
      ]
    },
    {
      "cell_type": "markdown",
      "source": [
        "## Question 3: Synthetic data analisys\n",
        "In the following cells, you will find functions that create and plot data points of four different scenarios. You will evaluate your implementation of PCA on each scenario.\n",
        "\n",
        "When does PCA seems well suited to analyse data ? Discuss.\n",
        "\n",
        "Plot the cumulative sum of the percentages of variance explained versus the number of components. Comment.\n",
        "\n",
        "(Hint : You can either use PCA multiple times or modify get_n_principal_components accordingly)"
      ],
      "metadata": {
        "id": "yRiB2TPL8Qgr"
      }
    },
    {
      "cell_type": "code",
      "execution_count": null,
      "metadata": {
        "id": "OjmUkKsJ7U-Q"
      },
      "outputs": [],
      "source": [
        "from sklearn.preprocessing import StandardScaler\n",
        "from sklearn.model_selection import train_test_split\n",
        "\n",
        "# Your Imports go here\n",
        "import time\n",
        "from sklearn import svm\n",
        "from sklearn.linear_model import LinearRegression\n",
        "from sklearn.metrics import accuracy_score,confusion_matrix, mean_squared_error"
      ]
    },
    {
      "cell_type": "markdown",
      "source": [
        "The next two functions are used to create the data and plot the results. Analyse them and try to understand what they do."
      ],
      "metadata": {
        "id": "QiPi3P73ksOq"
      }
    },
    {
      "cell_type": "code",
      "source": [
        "def generate_scenario(scenario=3, n_samples0 = 100, n_samples1 = 30):\n",
        "\n",
        "    y = np.concatenate((np.zeros([n_samples0,1]) , np.ones([n_samples1,1])) , axis=0)\n",
        "\n",
        "    if scenario == 1:\n",
        "        # Separate Gaussian\n",
        "        mean0 = [2, 3]\n",
        "        mean1 = [12, 14]\n",
        "        cov0 = [[1, 1.5], [1.5 ,3]]\n",
        "        cov1 = 2 ** 2 * np.eye(2)\n",
        "        X0 = np.random.multivariate_normal(mean0, cov0, n_samples0, check_valid='raise')\n",
        "        X1 = np.random.multivariate_normal(mean1, cov1, n_samples1, check_valid='raise')\n",
        "\n",
        "    elif scenario == 2:\n",
        "        # Overlapping Gaussian\n",
        "        mean0 = [2, 3]\n",
        "        mean1 = [5, 7]\n",
        "        cov0 = [[1, 1.5], [1.5 ,3]]\n",
        "        cov1 = [[2, 3], [3 ,6]]\n",
        "        X0 = np.random.multivariate_normal(mean0, cov0, n_samples0, check_valid='raise')\n",
        "        X1 = np.random.multivariate_normal(mean1, cov1, n_samples1, check_valid='raise')\n",
        "\n",
        "\n",
        "    elif scenario == 3:\n",
        "        # Overlapping Gaussian\n",
        "        mean0 = [0, 0]\n",
        "        mean1 = [0, 0]\n",
        "        cov0 = [[50, 4], [4, 2]]\n",
        "        cov1 = [[2, 0], [0 ,50]]\n",
        "        X0 = np.random.multivariate_normal(mean0, cov0, n_samples0, check_valid='raise')\n",
        "        X1 = np.random.multivariate_normal(mean1, cov1, n_samples1, check_valid='raise')\n",
        "\n",
        "\n",
        "    elif scenario == 4:\n",
        "        # Circles\n",
        "        # 1 circle\n",
        "        angle0=np.linspace(0, 2 * np.pi, n_samples0);\n",
        "        X0=np.vstack((8*np.cos(angle0) , 8*np.sin(angle0))).T\n",
        "\n",
        "        # 2 circle\n",
        "        angle1=np.linspace(0, 2 * np.pi, n_samples1);\n",
        "        X1=np.vstack((2*np.cos(angle1) , 2*np.sin(angle1))).T\n",
        "\n",
        "\n",
        "    return X0,X1,y\n",
        "\n",
        "def plotResults(X=None,U=None,Y=None,const=1,title=''):\n",
        "\n",
        "    N0=np.sum(y==0)\n",
        "    N1=np.sum(y==1)\n",
        "\n",
        "    fig=plt.figure(figsize=(17, 6))\n",
        "\n",
        "    ax  = fig.add_subplot(1, 3, 1)\n",
        "    plt.scatter(X0[:,0],X0[:,1],c='r', label='Class 0')\n",
        "    plt.scatter(X1[:,0],X1[:,1],c='b', label='Class 1')\n",
        "    if U is not None:\n",
        "        average=X.mean(axis=0)\n",
        "        sd=LA.norm(X.std(axis=0))\n",
        "        u0=U[:,0]*const*sd;\n",
        "        u1=U[:,1]*const*sd;\n",
        "        plt.plot([average[0]-u0[0], average[0]+u0[0]],[average[1]-u0[1], average[1]+u0[1]], c='g',linewidth=4, label='C 1' )\n",
        "        plt.plot([average[0]-u1[0], average[0]+u1[0]],[average[1]-u1[1], average[1]+u1[1]], c='k',linewidth=4, label='C 2' )\n",
        "        plt.title('Original data and components')\n",
        "    else:\n",
        "        plt.title('Original data')\n",
        "    plt.legend()\n",
        "\n",
        "    ax  = fig.add_subplot(1, 3, 2)\n",
        "    plt.scatter(Y[np.where(y == 0)[0],0], np.zeros((N0,1)), c='r', s=3, marker='o', label='Class 0')\n",
        "    plt.scatter(Y[np.where(y == 1)[0],0], np.zeros((N1,1)), c='b', s=3, marker='x', label='Class 1')\n",
        "    ax.set_title(title + '\\n Scores on 1st component')\n",
        "\n",
        "    ax  = fig.add_subplot(1, 3, 3)\n",
        "    plt.scatter(Y[np.where(y == 0)[0],1], np.zeros((N0,1)), c='r', s=3, marker='o', label='Class 0')\n",
        "    plt.scatter(Y[np.where(y == 1)[0],1], np.zeros((N1,1)), c='b', s=3, marker='x', label='Class 1')\n",
        "    plt.legend()\n",
        "    plt.title('Scores on 2nd component')\n",
        "\n",
        "    plt.show()\n"
      ],
      "metadata": {
        "id": "YZ207ZjwkmPa"
      },
      "execution_count": null,
      "outputs": []
    },
    {
      "cell_type": "code",
      "source": [
        "def main(p, scenario, n_samples0 = 100, n_samples1 = 30):\n",
        "  \"\"\"\n",
        "  Main function for testing the PCA on question 3 data.\n",
        "  Print explained variance and plot eigenvectors.\n",
        "\n",
        "  Parameters:\n",
        "  -----------\n",
        "  `p` : Number of principal components\n",
        "  `scenario` : Integer from 1 to 4 for scenario selection\n",
        "\n",
        "  \"\"\"\n",
        "\n",
        "  # generate the data\n",
        "  X0, X1, y = generate_scenario(scenario=scenario, n_samples0 =n_samples0, n_samples1=n_samples1)\n",
        "  X = np.concatenate((X0,X1),axis=0)\n",
        "\n",
        "  # center the data\n",
        "  X_centered = centerData(X)\n",
        "\n",
        "  # apply PCA to find the projection matrix P\n",
        "  components = get_PCA(X_centered, p)\n",
        "\n",
        "  print(f'components.shape : {components.shape}')\n",
        "  print(f'X_centered.shape : {X_centered.shape}')\n",
        "  # project the data\n",
        "  z = np.dot(X_centered, components)\n",
        "  print(f'Data shape before projection : {X.shape}')\n",
        "  print(f'Data shape after projection : {z.shape}')\n",
        "\n",
        "  return z"
      ],
      "metadata": {
        "id": "upmTTueFOXIx"
      },
      "execution_count": null,
      "outputs": []
    },
    {
      "cell_type": "markdown",
      "source": [
        "# Data generation:\n",
        "\n",
        "Try the 4 different scenarios."
      ],
      "metadata": {
        "id": "Ch1qftQ4kyfC"
      }
    },
    {
      "cell_type": "code",
      "source": [
        "X0,X1,y = generate_scenario(scenario=1, n_samples0 = 350, n_samples1 = 350)\n",
        "\n",
        "plt.figure(figsize=(6, 6))\n",
        "plt.scatter(X0[:,0],X0[:,1],c='r', label='Class 0')\n",
        "plt.scatter(X1[:,0],X1[:,1],c='b', label='Class 1')\n",
        "plt.title('Original data')\n",
        "plt.legend()\n",
        "plt.show()"
      ],
      "metadata": {
        "colab": {
          "base_uri": "https://localhost:8080/",
          "height": 545
        },
        "id": "NRY9vfkZk1Oe",
        "outputId": "86ddd9e3-96f0-4123-cdb8-16f90f4b96b2"
      },
      "execution_count": null,
      "outputs": [
        {
          "output_type": "display_data",
          "data": {
            "text/plain": [
              "<Figure size 600x600 with 1 Axes>"
            ],
            "image/png": "[encoded data removed]"
          },
          "metadata": {}
        }
      ]
    },
    {
      "cell_type": "markdown",
      "source": [
        "## Sanity check: sklearn PCA\n",
        "\n",
        "Use the following functions from sklearn and scipy to adapt your function and reproduce their behavior. Comment the results."
      ],
      "metadata": {
        "id": "mPpzikYbnUWq"
      }
    },
    {
      "cell_type": "code",
      "source": [
        "from sklearn.decomposition import PCA\n",
        "from scipy import linalg as LA\n",
        "from scipy.stats import ortho_group"
      ],
      "metadata": {
        "id": "T6mSgF7GlnQZ"
      },
      "execution_count": null,
      "outputs": []
    },
    {
      "cell_type": "code",
      "source": [
        "X0,X1,y = generate_scenario(scenario=1, n_samples0 = 350, n_samples1 = 350)\n",
        "X=np.concatenate((X0,X1),axis=0)\n",
        "\n",
        "Xc = X - np.mean(X, axis = 0)\n",
        "## PCA\n",
        "pca = PCA(random_state=1)\n",
        "Ypca=pca.fit_transform(Xc)\n",
        "U=pca.components_.T # we want PC on columns\n",
        "print(pca.explained_variance_ratio_)\n",
        "plotResults(X,U,Ypca,const=1,title='PCA')"
      ],
      "metadata": {
        "colab": {
          "base_uri": "https://localhost:8080/",
          "height": 564
        },
        "id": "QTirQVEPlfjs",
        "outputId": "c2323504-fd96-4689-9623-939d62b99314"
      },
      "execution_count": null,
      "outputs": [
        {
          "output_type": "stream",
          "name": "stdout",
          "text": [
            "[0.96522471 0.03477529]\n"
          ]
        },
        {
          "output_type": "display_data",
          "data": {
            "text/plain": [
              "<Figure size 1700x600 with 3 Axes>"
            ],
            "image/png": "[encoded data removed]"
          },
          "metadata": {}
        }
      ]
    },
    {
      "cell_type": "markdown",
      "source": [
        "### Putting everything together\n",
        "\n",
        "- Select one of the four scenarios that you find convenient\n",
        "\n",
        "- Select one of the algorithms for binary classification you have learned and implemented along the course\n",
        "\n",
        "- Train and test your algorithm on the original training set and on the first component of PCA (bonus points if you use your own implementation).\n",
        "\n",
        "- Empirically measure the time of training and testing and to calculating PCA.\n",
        "\n",
        "- Plot/print your results. You can choose your own experiments (i.e. decision boundary after classification, average error when repeating the experiment $100$ times, etc...).\n",
        "\n",
        "- Discuss your results."
      ],
      "metadata": {
        "id": "a9jeY2naz2RH"
      }
    },
    {
      "cell_type": "code",
      "source": [
        "### Test PCA using main function from question 2\n",
        "z = main(p=1, scenario=1, n_samples0 = 350, n_samples1 = 350)"
      ],
      "metadata": {
        "colab": {
          "base_uri": "https://localhost:8080/"
        },
        "id": "W6H50evryG3r",
        "outputId": "4d343872-4435-4fcd-e75d-4edb1a9197b5"
      },
      "execution_count": null,
      "outputs": [
        {
          "output_type": "stream",
          "name": "stdout",
          "text": [
            "components.shape : (2, 1)\n",
            "X_centered.shape : (700, 2)\n",
            "Data shape before projection : (700, 2)\n",
            "Data shape after projection : (700, 1)\n"
          ]
        }
      ]
    },
    {
      "cell_type": "code",
      "source": [
        "### Select an algorithm from previous homeworks and learn on PCA features instead of the original features\n",
        "\n",
        "#Original data\n",
        "X0,X1,y = generate_scenario(scenario=1, n_samples0 = 10000, n_samples1 = 10000)\n",
        "X=np.concatenate((X0,X1),axis=0)\n",
        "\n",
        "X_train, X_test, y_train, y_test = train_test_split(X, y, test_size=0.30, random_state=42)\n",
        "\n",
        "#Applying PCA\n",
        "time_1 = time.time()\n",
        "X_centered = centerData(X)\n",
        "print(f'X_centered.shape : {X_centered.shape}')\n",
        "\n",
        "components = get_PCA(X_centered, p=1)\n",
        "print(f'components.shape : {components.shape}')\n",
        "\n",
        "Z = np.dot(X_centered, components)\n",
        "print(f'Z.shape : {Z.shape}')\n",
        "time_1 = time.time() - time_1\n",
        "\n",
        "X_train_pca, X_test_pca, y_train_pca, y_test_pca = train_test_split(Z, y, test_size=0.30, random_state=42)\n",
        "\n",
        "print(f'X_train.shape : {X_train.shape}')\n",
        "print(f'y_train.shape : {y_train.shape}')\n",
        "print(f'X_train_pca.shape : {X_train_pca.shape}')\n",
        "print(f'y_train_pca.shape : {y_train_pca.shape}')"
      ],
      "metadata": {
        "id": "XcENcFWDOd_c",
        "colab": {
          "base_uri": "https://localhost:8080/"
        },
        "outputId": "641df5b6-d5c4-4f05-89e0-c04811e588f4"
      },
      "execution_count": null,
      "outputs": [
        {
          "output_type": "stream",
          "name": "stdout",
          "text": [
            "X_centered.shape : (20000, 2)\n",
            "components.shape : (2, 1)\n",
            "Z.shape : (20000, 1)\n",
            "X_train.shape : (14000, 2)\n",
            "y_train.shape : (14000, 1)\n",
            "X_train_pca.shape : (14000, 1)\n",
            "y_train_pca.shape : (14000, 1)\n"
          ]
        }
      ]
    },
    {
      "cell_type": "code",
      "source": [
        "#Training on the original data\n",
        "clf = svm.SVC()\n",
        "# clf = LinearRegression()\n",
        "time_2 = time.time()\n",
        "clf = clf.fit(X_train,y_train.squeeze())\n",
        "time_2 = time.time() - time_2\n",
        "y_pred = clf.predict(X_test)\n",
        "\n",
        "\n",
        "print(accuracy_score(y_test,y_pred))\n",
        "print(confusion_matrix(y_test,y_pred))\n",
        "# mse = mean_squared_error(y_test, y_pred)\n",
        "# print(f\"Mean Squared Error: {mse:.2f}\")\n",
        "\n",
        "print(f\"Time for training on original data: {time_2:.2f} seconds\")"
      ],
      "metadata": {
        "colab": {
          "base_uri": "https://localhost:8080/"
        },
        "id": "mEM1TYl-SlGy",
        "outputId": "ee746b24-180a-4356-e35d-d2a542ae0e29"
      },
      "execution_count": null,
      "outputs": [
        {
          "output_type": "stream",
          "name": "stdout",
          "text": [
            "1.0\n",
            "[[3017    0]\n",
            " [   0 2983]]\n",
            "Time for training on original data: 0.02 seconds\n"
          ]
        }
      ]
    },
    {
      "cell_type": "code",
      "source": [
        "#Training and testing on the data after PCA\n",
        "clf_pca = svm.SVC()\n",
        "# clf_pca = LinearRegression()\n",
        "time_3 = time.time()\n",
        "clf_pca = clf_pca.fit(X_train_pca,y_train_pca.squeeze())\n",
        "time_3 = time.time() - time_3\n",
        "y_pred_pca = clf_pca.predict(X_test_pca)\n",
        "\n",
        "print(accuracy_score(y_test_pca,y_pred_pca))\n",
        "print(confusion_matrix(y_test_pca,y_pred_pca))\n",
        "\n",
        "# mse_pca = mean_squared_error(y_test, y_pred)\n",
        "# print(f\"Mean Squared Error: {mse_pca:.2f}\")\n",
        "\n",
        "print(f\"Time for PCA: {time_1:.2f} seconds\")\n",
        "print(f\"Time for training on data after PCA: {time_3:.2f} seconds\")"
      ],
      "metadata": {
        "colab": {
          "base_uri": "https://localhost:8080/"
        },
        "id": "5-OhMiDfSqGF",
        "outputId": "7decf614-b53a-465a-ca5a-e6cedbe599d0"
      },
      "execution_count": null,
      "outputs": [
        {
          "output_type": "stream",
          "name": "stdout",
          "text": [
            "0.7666666666666667\n",
            "[[2806  211]\n",
            " [1189 1794]]\n",
            "Time for PCA: 0.01 seconds\n",
            "Time for training on data after PCA: 6.26 seconds\n"
          ]
        }
      ]
    },
    {
      "cell_type": "markdown",
      "source": [
        "#*Comments*\n",
        "After testing with multiple 'n_samples' values, we noticed that the time taken for PCA is consistently longer than the time without PCA, which is counterintuitive. This anomaly arises from the fact that, after PCA, we are left with only one feature. PCA is typically most beneficial when we have a large number of features."
      ],
      "metadata": {
        "id": "ohsLmPY4Wld4"
      }
    },
    {
      "cell_type": "markdown",
      "source": [
        "**Answer 3:**"
      ],
      "metadata": {
        "id": "xPi0f-8ncGRG"
      }
    },
    {
      "cell_type": "markdown",
      "metadata": {
        "id": "kxcW4yhYapIv"
      },
      "source": [
        "# Part 2: Face recognition\n",
        "\n",
        "\n",
        "## Question 4:\n",
        "\n",
        "The goal of this part is to evaluate the performance of the dimensionality reduction technique on an image classification task.\n",
        "\n",
        "We divide the data-set into two parts, training and test. You will first extract a set of basis images from your training data-set. Then, you will project the test subjects in this new basis and use the nearest neighbor algorithm to evaluate the performance of the dimensionality reduction technique.\n",
        "\n",
        "Compute the scores, eigenvectors and eigenvalues of the training set. The eigenvectors represent the basis images and they are usually called 'Eigenfaces'. Then, project both training and test data onto the eigenvectors that explain 95 %  of the variability of the training set. You will obtain two vectors of scores which you will use for evaluating the performance of the algorithm. Use the function 'KNeighborsClassifier' to test the performance.\n",
        "\n",
        "\n",
        "Use either the scikit-learn implementation or yours (better!) to compute the PCA for the training data-set. Comment the results.\n",
        "\n",
        "Is it worth it in your opinion to compute PCA ? Could we simply use pixels as features? Why ?\n",
        "\n",
        "Hint: think about the performance in your test set and generalizability, the number of operations, etc..."
      ]
    },
    {
      "cell_type": "markdown",
      "source": [
        "**Answer 4:**"
      ],
      "metadata": {
        "id": "qJGRQGpNrx3J"
      }
    },
    {
      "cell_type": "markdown",
      "source": [
        "## Downloading data\n",
        "\n",
        "Load the original images present in the files 'YaleB_32x32.mat'. This is a small part of the freely available Extended Yale Face Database B downloaded from http://www.cad.zju.edu.cn/home/dengcai/Data/FaceData.html. It contains 2414 cropped images resized to 32x32 pixels. Every image is represented as a vector 1x1024 and all images are stacked in a matrix called data. There are 38 subjects with around 64 near frontal images per individual under different illumination conditions. Once loaded and normalised the data, such that the pixels are between 0 and 1, you can plot some images using the function 'imshow'."
      ],
      "metadata": {
        "id": "ZWMi_IjOqT0a"
      }
    },
    {
      "cell_type": "code",
      "source": [
        "# imports\n",
        "from google_drive_downloader import GoogleDriveDownloader as gdd\n",
        "import math\n",
        "import numpy as np\n",
        "import numpy.matlib\n",
        "\n",
        "from sklearn.model_selection import train_test_split\n",
        "from sklearn.neighbors import KNeighborsClassifier\n",
        "\n",
        "from scipy import linalg as LA\n",
        "from scipy.stats import ortho_group\n",
        "\n",
        "from scipy.io import loadmat"
      ],
      "metadata": {
        "id": "iudC-ao-qkRZ"
      },
      "execution_count": null,
      "outputs": []
    },
    {
      "cell_type": "markdown",
      "source": [
        "Download data..."
      ],
      "metadata": {
        "id": "uQAlb6McqnAa"
      }
    },
    {
      "cell_type": "code",
      "source": [
        "gdd.download_file_from_google_drive(file_id='1tqVweaaKPzI91MumDSHCc_uw2X3xIsCc',\n",
        "                                    dest_path='./Yale/YaleB_32x32.zip',\n",
        "                                    unzip=True)"
      ],
      "metadata": {
        "id": "Lqd8SZr2p25h",
        "colab": {
          "base_uri": "https://localhost:8080/"
        },
        "outputId": "eaf8b1c9-aae8-4adc-81bc-3a4da49ec45c"
      },
      "execution_count": null,
      "outputs": [
        {
          "output_type": "stream",
          "name": "stdout",
          "text": [
            "Downloading 1tqVweaaKPzI91MumDSHCc_uw2X3xIsCc into ./Yale/YaleB_32x32.zip... Done.\n",
            "Unzipping...Done.\n"
          ]
        }
      ]
    },
    {
      "cell_type": "markdown",
      "source": [
        "Below you will find a useful function to plot faces"
      ],
      "metadata": {
        "id": "qfjJ_FDmqe_S"
      }
    },
    {
      "cell_type": "code",
      "source": [
        "def plotFaces(data,r,c,ncol=2,N=0,indeces=None,title=None):\n",
        "    # data: each face is a row in data\n",
        "    # r,c = number of rows and columns of each image\n",
        "    # n_col = number of columns for subplots\n",
        "    # N = random images to plot (used only if indeces is empty)\n",
        "    # indeces = indeces of images to plot\n",
        "    # title = title of the plot\n",
        "\n",
        "\n",
        "    if indeces is None:\n",
        "        if N==0:\n",
        "            raise NameError('You should define either N or indeces')\n",
        "        else:\n",
        "            print('Use N random subjects')\n",
        "            indeces=np.random.randint(0,data.shape[0],(N,1))\n",
        "\n",
        "    nrow=math.ceil(len(indeces)/ncol)\n",
        "\n",
        "    fig=plt.figure(figsize=(17, 6))\n",
        "    plt.suptitle(title, size=16)\n",
        "    for i, index in enumerate(indeces):\n",
        "        fig.add_subplot(nrow, ncol, i+1)\n",
        "        plt.imshow(np.resize(data[index,:],(r,c)).T,origin='upper',cmap='gray')\n",
        "        plt.xticks(())\n",
        "        plt.yticks(())\n",
        "    #plt.subplots_adjust(left=0.01, bottom=0.05, right=0.99, top=0.93, wspace=0.04, hspace=0.0)"
      ],
      "metadata": {
        "id": "WuZszgQsqd-h"
      },
      "execution_count": null,
      "outputs": []
    },
    {
      "cell_type": "markdown",
      "source": [
        "Let's load the data and compute some parameters."
      ],
      "metadata": {
        "id": "4HJLYqdxqsW7"
      }
    },
    {
      "cell_type": "code",
      "source": [
        "x = loadmat('./Yale/YaleB_32x32.mat')\n",
        "data=x['fea']\n",
        "d=data.shape[1] # number of pixels of the images\n",
        "subjectIndex=x['gnd'] # we have one index per subject\n",
        "maxValue = np.max(np.max(data)) # max intensity value\n",
        "data = data/maxValue; # Scale pixels to [0,1]\n",
        "\n",
        "Ns=len(np.unique(subjectIndex)); # Number subjects\n",
        "Is=round(len(subjectIndex)/Ns) # Number images per subject (on average, not the same number for every subject)\n",
        "r=int(np.sqrt(d)) # number rows of each image\n",
        "c=r # number columns of each image, equal to row since images are square\n",
        "\n",
        "print('There are', data.shape[0], 'facial images and each image has', d, 'pixels' )\n",
        "print('There are', Ns, 'different subjects and each subject has on average', Is, 'images')\n",
        "\n",
        "Xtrain, Xtest, Id_Train, Id_Test = train_test_split(data,subjectIndex,test_size=0.20,stratify=subjectIndex, random_state=44)\n",
        "Xctest=Xtest-np.mean(Xtest,axis=0) # centering\n",
        "Xctrain=Xtrain-np.mean(Xtrain,axis=0) # centering"
      ],
      "metadata": {
        "id": "Quv7xeZxqsJS",
        "colab": {
          "base_uri": "https://localhost:8080/"
        },
        "outputId": "4d13661c-0fb7-4e60-e9dc-c09cdcdd08ba"
      },
      "execution_count": null,
      "outputs": [
        {
          "output_type": "stream",
          "name": "stdout",
          "text": [
            "There are 2414 facial images and each image has 1024 pixels\n",
            "There are 38 different subjects and each subject has on average 64 images\n"
          ]
        }
      ]
    },
    {
      "cell_type": "markdown",
      "source": [
        "Let's plot first 10 images of different subjects and then 10 images of the same subject but with different positions and illumination conditions"
      ],
      "metadata": {
        "id": "adcd2Yshq516"
      }
    },
    {
      "cell_type": "code",
      "source": [
        "# Plot data\n",
        "indexDifferent=np.arange(1,Is*40,Is)\n",
        "plotFaces(data,r,c,ncol=3,indeces=indexDifferent[0:10],title='Different subjects')\n",
        "indexSame=np.arange(0,10,1)\n",
        "plotFaces(data,r,c,ncol=2,indeces=indexSame,title='Different positions of the same subjects')"
      ],
      "metadata": {
        "id": "TCRYt2oWq5OJ",
        "colab": {
          "base_uri": "https://localhost:8080/",
          "height": 1000
        },
        "outputId": "220346c1-5aad-4c62-ff46-2ff218fa75f2"
      },
      "execution_count": null,
      "outputs": [
        {
          "output_type": "display_data",
          "data": {
            "text/plain": [
              "<Figure size 1700x600 with 10 Axes>"
            ],
            "image/png": "[encoded data removed]"
          },
          "metadata": {}
        },
        {
          "output_type": "display_data",
          "data": {
            "text/plain": [
              "<Figure size 1700x600 with 10 Axes>"
            ],
            "image/png": "[encoded data removed]"
          },
          "metadata": {}
        }
      ]
    },
    {
      "cell_type": "markdown",
      "source": [
        "Preparing data for training/testing:"
      ],
      "metadata": {
        "id": "FRtBRoTrq-ip"
      }
    },
    {
      "cell_type": "code",
      "source": [
        "# Create train/test split\n",
        "trainIdx, testIdx = train_test_split(np.arange(0,data.shape[0],1),test_size=0.3,random_state=1)\n",
        "Xtest=data[testIdx,:]\n",
        "Xctest=Xtest-np.mean(Xtest,axis=0) # centering\n",
        "Xtrain=data[trainIdx,:]\n",
        "Xctrain=Xtrain-np.mean(Xtrain,axis=0) # centering\n",
        "Id_Train = subjectIndex[trainIdx]; # indeces of the subjects for the training\n",
        "Id_Test = subjectIndex[testIdx]; # indeces of the subjects for the test\n",
        "\n",
        "N = Xctrain.shape[0] # N number of training images\n",
        "M = Xctest.shape[0] # M number of test images"
      ],
      "metadata": {
        "id": "i4Flc7zwrCJc"
      },
      "execution_count": null,
      "outputs": []
    },
    {
      "cell_type": "markdown",
      "source": [
        "## Pixels as features:\n",
        "\n",
        "As first idea, we could simply use the pixel intensities as features. This is basically like using the original data, without dimensionality reducton techniques.\n"
      ],
      "metadata": {
        "id": "illU291ZrGwp"
      }
    },
    {
      "cell_type": "code",
      "source": [
        "## Use the pixel intensities to find the correct subject for the test images\n",
        "NN=KNeighborsClassifier(n_neighbors=1)\n",
        "NN.fit(Xctrain,Id_Train.ravel())\n",
        "print('Percentage of correct answer using the pixel intensities is ', NN.score(Xctest,Id_Test))"
      ],
      "metadata": {
        "id": "9yM_Z-XBrP-4",
        "colab": {
          "base_uri": "https://localhost:8080/"
        },
        "outputId": "e4a68120-cf39-419b-fe48-14ec951a0be1"
      },
      "execution_count": null,
      "outputs": [
        {
          "output_type": "stream",
          "name": "stdout",
          "text": [
            "Percentage of correct answer using the pixel intensities is  0.7324137931034482\n"
          ]
        }
      ]
    },
    {
      "cell_type": "markdown",
      "source": [
        "## PCA features\n",
        "\n",
        "Now do the same but with reduced dimensionality. Comment on the execution time, the influence of the number of PCA components.\n",
        "\n"
      ],
      "metadata": {
        "id": "LJ6VIHOlrJ1q"
      }
    },
    {
      "cell_type": "markdown",
      "source": [
        "**Answer:**"
      ],
      "metadata": {
        "id": "POFUJZ2pxIsT"
      }
    },
    {
      "cell_type": "code",
      "source": [
        "## PCA\n",
        "print('PCA')\n",
        "#XXXXXXXXXX\n",
        "\n",
        "# Threshold defined as 99% of the variability\n",
        "Threshold_PCA = 99\n",
        "CumulativePca=np.cumsum(var_explained_pca)\n",
        "indexPCA=np.argwhere(CumulativePca>Threshold_PCA)\n",
        "PCAComp=indexPCA[0][0]\n",
        "\n",
        "# Selection of the eigenvectors\n",
        "Yr_train_PCA=YpcaTrain[:,:PCAComp]\n",
        "Ur_train_PCA=UpcaTrain[:,:PCAComp]\n",
        "\n",
        "# Computation of the test scores using the eigenvectors computed with the\n",
        "# training data-set\n",
        "Yr_test_PCA=np.dot(Xctest,Ur_train_PCA)\n",
        "\n",
        "# Plot the Eigenfaces\n",
        "plotFaces(UpcaTrain.T,r,c,ncol=2,indeces=np.arange(0,10,1),title='PCA - Eigenfaces')\n",
        "\n",
        "# Score\n",
        "NN.fit(Yr_train_PCA,Id_Train.ravel())\n",
        "print('Percentage of correct answer using PCA is ', NN.score(Yr_test_PCA,Id_Test))"
      ],
      "metadata": {
        "id": "parT4yI9_-1_",
        "colab": {
          "base_uri": "https://localhost:8080/",
          "height": 259
        },
        "outputId": "e9986042-a553-4c55-dd3b-a1ed68c2339b"
      },
      "execution_count": null,
      "outputs": [
        {
          "output_type": "stream",
          "name": "stdout",
          "text": [
            "PCA\n"
          ]
        },
        {
          "output_type": "error",
          "ename": "NameError",
          "evalue": "ignored",
          "traceback": [
            "\u001b[0;31m---------------------------------------------------------------------------\u001b[0m",
            "\u001b[0;31mNameError\u001b[0m                                 Traceback (most recent call last)",
            "\u001b[0;32m<ipython-input-71-2e8d91952bfa>\u001b[0m in \u001b[0;36m<cell line: 7>\u001b[0;34m()\u001b[0m\n\u001b[1;32m      5\u001b[0m \u001b[0;31m# Threshold defined as 99% of the variability\u001b[0m\u001b[0;34m\u001b[0m\u001b[0;34m\u001b[0m\u001b[0m\n\u001b[1;32m      6\u001b[0m \u001b[0mThreshold_PCA\u001b[0m \u001b[0;34m=\u001b[0m \u001b[0;36m99\u001b[0m\u001b[0;34m\u001b[0m\u001b[0;34m\u001b[0m\u001b[0m\n\u001b[0;32m----> 7\u001b[0;31m \u001b[0mCumulativePca\u001b[0m\u001b[0;34m=\u001b[0m\u001b[0mnp\u001b[0m\u001b[0;34m.\u001b[0m\u001b[0mcumsum\u001b[0m\u001b[0;34m(\u001b[0m\u001b[0mvar_explained_pca\u001b[0m\u001b[0;34m)\u001b[0m\u001b[0;34m\u001b[0m\u001b[0;34m\u001b[0m\u001b[0m\n\u001b[0m\u001b[1;32m      8\u001b[0m \u001b[0mindexPCA\u001b[0m\u001b[0;34m=\u001b[0m\u001b[0mnp\u001b[0m\u001b[0;34m.\u001b[0m\u001b[0margwhere\u001b[0m\u001b[0;34m(\u001b[0m\u001b[0mCumulativePca\u001b[0m\u001b[0;34m>\u001b[0m\u001b[0mThreshold_PCA\u001b[0m\u001b[0;34m)\u001b[0m\u001b[0;34m\u001b[0m\u001b[0;34m\u001b[0m\u001b[0m\n\u001b[1;32m      9\u001b[0m \u001b[0mPCAComp\u001b[0m\u001b[0;34m=\u001b[0m\u001b[0mindexPCA\u001b[0m\u001b[0;34m[\u001b[0m\u001b[0;36m0\u001b[0m\u001b[0;34m]\u001b[0m\u001b[0;34m[\u001b[0m\u001b[0;36m0\u001b[0m\u001b[0;34m]\u001b[0m\u001b[0;34m\u001b[0m\u001b[0;34m\u001b[0m\u001b[0m\n",
            "\u001b[0;31mNameError\u001b[0m: name 'var_explained_pca' is not defined"
          ]
        }
      ]
    },
    {
      "cell_type": "markdown",
      "source": [
        "# Part 3: Boosting\n",
        "\n",
        "We will now take a brief look at a different method for supervised classification.\n",
        "\n",
        "AdaBoost is an ensemble model that combines \"weak learners\" (also called stump; a tree with only one node and two leaves) to perform binary classification.\n",
        "\n",
        "It works by fitting weak decision trees to data in an iterative process where each stump is calculated given the result of a previous iteration.  \n",
        "\n",
        "The power of the method lies in that some stumps get more say in the final classifications than others as the model attributes weights to each data point according to their \"importance.\"\n",
        "\n",
        "Samples with higher weights have a higher influence on the total error of the next model and get more priority.\n",
        "\n",
        "The first stump starts with uniformly distributed weight so that every datapoint has an equal amount of weights.\n",
        "\n",
        "Each stump is made by taking the previous stump's mistakes into account: After each iteration weights gets re-calculated to take the errors/misclassifications from the last stump into consideration.\n",
        "\n",
        "The final prediction is typically constructed by a weighted vote where weights for each base model depends on their training errors or misclassification rates.\n",
        "\n",
        "<img src=\"https://cdn-images-1.medium.com/max/1600/0*paPv7vXuq4eBHZY7.png\" width=700/>\n",
        "\n",
        "**Figure 2: Iterative process performed by AdaBoost. The size of the labels is proportional to their weight.**"
      ],
      "metadata": {
        "id": "tr22NTf8MfYD"
      }
    },
    {
      "cell_type": "markdown",
      "source": [
        "## Question 5: AdaBoost for titanic survival rate.\n",
        "\n",
        "Here once again you will predict the survival score of a passenger of the titanic disaster.\n",
        "\n",
        "We will not implement the algorithm but simply use sklearn implementation and analyse the results.\n",
        "\n",
        "You will choose the prediciton variables $x$ from the available options and apply AdaBoost on it to infer the 'survival' variable.\n",
        "\n",
        "Here we have two types of variables: Numerical and categorical. For instance, the passenger Age can be an integer $\\in [0, 120]$. The passenger class, on the other hand, can only be represented by $3$ values. The passenger sex by $2$ values.\n",
        "\n",
        "\n",
        "Below are the functions that donwload and preprocess the data.\n"
      ],
      "metadata": {
        "id": "EBEM04QmUEAU"
      }
    },
    {
      "cell_type": "code",
      "source": [
        "from google_drive_downloader import GoogleDriveDownloader as gdd\n",
        "import seaborn as sns\n",
        "sns.set_theme(style=\"whitegrid\")\n",
        "\n",
        "gdd.download_file_from_google_drive(file_id='1zilQH06ud0nzmmqLUwCnwDHdJkNICBU4',\n",
        "                                    dest_path='./titanic/data.zip',\n",
        "                                    unzip=True)\n",
        "train = pd.read_csv('titanic/train.csv')\n",
        "test = pd.read_csv('titanic/test.csv')\n",
        "\n",
        "# preprocess data\n",
        "\n",
        "train.drop(\"Cabin\",inplace=True,axis=1)\n",
        "test.drop(\"Cabin\",inplace=True,axis=1)\n",
        "\n",
        "train = train[train['Age'].notna()]\n",
        "test = test[test['Age'].notna()]\n",
        "\n",
        "\n",
        "train['Embarked'].fillna(train['Embarked'].mode()[0],inplace=True)\n",
        "test['Embarked'].fillna(test['Embarked'].mode()[0],inplace=True)\n",
        "\n",
        "test['Fare'].fillna(test['Fare'].mean(),inplace=True)"
      ],
      "metadata": {
        "id": "evxEr6bGYZll",
        "colab": {
          "base_uri": "https://localhost:8080/"
        },
        "outputId": "684057ff-8afa-4df8-ac6f-2d0097e0fe44"
      },
      "execution_count": null,
      "outputs": [
        {
          "output_type": "stream",
          "name": "stdout",
          "text": [
            "Downloading 1zilQH06ud0nzmmqLUwCnwDHdJkNICBU4 into ./titanic/data.zip... Done.\n",
            "Unzipping...Done.\n"
          ]
        }
      ]
    },
    {
      "cell_type": "code",
      "source": [
        "train.head(1)"
      ],
      "metadata": {
        "id": "MqCzg9SRYbnA",
        "colab": {
          "base_uri": "https://localhost:8080/",
          "height": 80
        },
        "outputId": "883d5259-b8b5-428d-c7e4-1d54c7f953df"
      },
      "execution_count": null,
      "outputs": [
        {
          "output_type": "execute_result",
          "data": {
            "text/plain": [
              "   PassengerId  Survived  Pclass                     Name   Sex   Age  SibSp  \\\n",
              "0            1         0       3  Braund, Mr. Owen Harris  male  22.0      1   \n",
              "\n",
              "   Parch     Ticket  Fare Embarked  \n",
              "0      0  A/5 21171  7.25        S  "
            ],
            "text/html": [
              "\n",
              "  <div id=\"df-be6b68eb-674d-42e5-9798-e11eff19d2be\" class=\"colab-df-container\">\n",
              "    <div>\n",
              "<style scoped>\n",
              "    .dataframe tbody tr th:only-of-type {\n",
              "        vertical-align: middle;\n",
              "    }\n",
              "\n",
              "    .dataframe tbody tr th {\n",
              "        vertical-align: top;\n",
              "    }\n",
              "\n",
              "    .dataframe thead th {\n",
              "        text-align: right;\n",
              "    }\n",
              "</style>\n",
              "<table border=\"1\" class=\"dataframe\">\n",
              "  <thead>\n",
              "    <tr style=\"text-align: right;\">\n",
              "      <th></th>\n",
              "      <th>PassengerId</th>\n",
              "      <th>Survived</th>\n",
              "      <th>Pclass</th>\n",
              "      <th>Name</th>\n",
              "      <th>Sex</th>\n",
              "      <th>Age</th>\n",
              "      <th>SibSp</th>\n",
              "      <th>Parch</th>\n",
              "      <th>Ticket</th>\n",
              "      <th>Fare</th>\n",
              "      <th>Embarked</th>\n",
              "    </tr>\n",
              "  </thead>\n",
              "  <tbody>\n",
              "    <tr>\n",
              "      <th>0</th>\n",
              "      <td>1</td>\n",
              "      <td>0</td>\n",
              "      <td>3</td>\n",
              "      <td>Braund, Mr. Owen Harris</td>\n",
              "      <td>male</td>\n",
              "      <td>22.0</td>\n",
              "      <td>1</td>\n",
              "      <td>0</td>\n",
              "      <td>A/5 21171</td>\n",
              "      <td>7.25</td>\n",
              "      <td>S</td>\n",
              "    </tr>\n",
              "  </tbody>\n",
              "</table>\n",
              "</div>\n",
              "    <div class=\"colab-df-buttons\">\n",
              "\n",
              "  <div class=\"colab-df-container\">\n",
              "    <button class=\"colab-df-convert\" onclick=\"convertToInteractive('df-be6b68eb-674d-42e5-9798-e11eff19d2be')\"\n",
              "            title=\"Convert this dataframe to an interactive table.\"\n",
              "            style=\"display:none;\">\n",
              "\n",
              "  <svg xmlns=\"http://www.w3.org/2000/svg\" height=\"24px\" viewBox=\"0 -960 960 960\">\n",
              "    <path d=\"M120-120v-720h720v720H120Zm60-500h600v-160H180v160Zm220 220h160v-160H400v160Zm0 220h160v-160H400v160ZM180-400h160v-160H180v160Zm440 0h160v-160H620v160ZM180-180h160v-160H180v160Zm440 0h160v-160H620v160Z\"/>\n",
              "  </svg>\n",
              "    </button>\n",
              "\n",
              "  <style>\n",
              "    .colab-df-container {\n",
              "      display:flex;\n",
              "      gap: 12px;\n",
              "    }\n",
              "\n",
              "    .colab-df-convert {\n",
              "      background-color: #E8F0FE;\n",
              "      border: none;\n",
              "      border-radius: 50%;\n",
              "      cursor: pointer;\n",
              "      display: none;\n",
              "      fill: #1967D2;\n",
              "      height: 32px;\n",
              "      padding: 0 0 0 0;\n",
              "      width: 32px;\n",
              "    }\n",
              "\n",
              "    .colab-df-convert:hover {\n",
              "      background-color: #E2EBFA;\n",
              "      box-shadow: 0px 1px 2px rgba(60, 64, 67, 0.3), 0px 1px 3px 1px rgba(60, 64, 67, 0.15);\n",
              "      fill: #174EA6;\n",
              "    }\n",
              "\n",
              "    .colab-df-buttons div {\n",
              "      margin-bottom: 4px;\n",
              "    }\n",
              "\n",
              "    [theme=dark] .colab-df-convert {\n",
              "      background-color: #3B4455;\n",
              "      fill: #D2E3FC;\n",
              "    }\n",
              "\n",
              "    [theme=dark] .colab-df-convert:hover {\n",
              "      background-color: #434B5C;\n",
              "      box-shadow: 0px 1px 3px 1px rgba(0, 0, 0, 0.15);\n",
              "      filter: drop-shadow(0px 1px 2px rgba(0, 0, 0, 0.3));\n",
              "      fill: #FFFFFF;\n",
              "    }\n",
              "  </style>\n",
              "\n",
              "    <script>\n",
              "      const buttonEl =\n",
              "        document.querySelector('#df-be6b68eb-674d-42e5-9798-e11eff19d2be button.colab-df-convert');\n",
              "      buttonEl.style.display =\n",
              "        google.colab.kernel.accessAllowed ? 'block' : 'none';\n",
              "\n",
              "      async function convertToInteractive(key) {\n",
              "        const element = document.querySelector('#df-be6b68eb-674d-42e5-9798-e11eff19d2be');\n",
              "        const dataTable =\n",
              "          await google.colab.kernel.invokeFunction('convertToInteractive',\n",
              "                                                    [key], {});\n",
              "        if (!dataTable) return;\n",
              "\n",
              "        const docLinkHtml = 'Like what you see? Visit the ' +\n",
              "          '<a target=\"_blank\" href=https://colab.research.google.com/notebooks/data_table.ipynb>data table notebook</a>'\n",
              "          + ' to learn more about interactive tables.';\n",
              "        element.innerHTML = '';\n",
              "        dataTable['output_type'] = 'display_data';\n",
              "        await google.colab.output.renderOutput(dataTable, element);\n",
              "        const docLink = document.createElement('div');\n",
              "        docLink.innerHTML = docLinkHtml;\n",
              "        element.appendChild(docLink);\n",
              "      }\n",
              "    </script>\n",
              "  </div>\n",
              "\n",
              "    </div>\n",
              "  </div>\n"
            ]
          },
          "metadata": {},
          "execution_count": 73
        }
      ]
    },
    {
      "cell_type": "code",
      "source": [
        "test.head(1)"
      ],
      "metadata": {
        "id": "Th0V9Wl8YdiJ",
        "colab": {
          "base_uri": "https://localhost:8080/",
          "height": 80
        },
        "outputId": "b6d4360a-ef6c-4a18-c4d8-6ae2c1a382d7"
      },
      "execution_count": null,
      "outputs": [
        {
          "output_type": "execute_result",
          "data": {
            "text/plain": [
              "   PassengerId  Pclass              Name   Sex   Age  SibSp  Parch  Ticket  \\\n",
              "0          892       3  Kelly, Mr. James  male  34.5      0      0  330911   \n",
              "\n",
              "     Fare Embarked  \n",
              "0  7.8292        Q  "
            ],
            "text/html": [
              "\n",
              "  <div id=\"df-011361ef-caf0-4a8b-a0cd-fd23a3591f5a\" class=\"colab-df-container\">\n",
              "    <div>\n",
              "<style scoped>\n",
              "    .dataframe tbody tr th:only-of-type {\n",
              "        vertical-align: middle;\n",
              "    }\n",
              "\n",
              "    .dataframe tbody tr th {\n",
              "        vertical-align: top;\n",
              "    }\n",
              "\n",
              "    .dataframe thead th {\n",
              "        text-align: right;\n",
              "    }\n",
              "</style>\n",
              "<table border=\"1\" class=\"dataframe\">\n",
              "  <thead>\n",
              "    <tr style=\"text-align: right;\">\n",
              "      <th></th>\n",
              "      <th>PassengerId</th>\n",
              "      <th>Pclass</th>\n",
              "      <th>Name</th>\n",
              "      <th>Sex</th>\n",
              "      <th>Age</th>\n",
              "      <th>SibSp</th>\n",
              "      <th>Parch</th>\n",
              "      <th>Ticket</th>\n",
              "      <th>Fare</th>\n",
              "      <th>Embarked</th>\n",
              "    </tr>\n",
              "  </thead>\n",
              "  <tbody>\n",
              "    <tr>\n",
              "      <th>0</th>\n",
              "      <td>892</td>\n",
              "      <td>3</td>\n",
              "      <td>Kelly, Mr. James</td>\n",
              "      <td>male</td>\n",
              "      <td>34.5</td>\n",
              "      <td>0</td>\n",
              "      <td>0</td>\n",
              "      <td>330911</td>\n",
              "      <td>7.8292</td>\n",
              "      <td>Q</td>\n",
              "    </tr>\n",
              "  </tbody>\n",
              "</table>\n",
              "</div>\n",
              "    <div class=\"colab-df-buttons\">\n",
              "\n",
              "  <div class=\"colab-df-container\">\n",
              "    <button class=\"colab-df-convert\" onclick=\"convertToInteractive('df-011361ef-caf0-4a8b-a0cd-fd23a3591f5a')\"\n",
              "            title=\"Convert this dataframe to an interactive table.\"\n",
              "            style=\"display:none;\">\n",
              "\n",
              "  <svg xmlns=\"http://www.w3.org/2000/svg\" height=\"24px\" viewBox=\"0 -960 960 960\">\n",
              "    <path d=\"M120-120v-720h720v720H120Zm60-500h600v-160H180v160Zm220 220h160v-160H400v160Zm0 220h160v-160H400v160ZM180-400h160v-160H180v160Zm440 0h160v-160H620v160ZM180-180h160v-160H180v160Zm440 0h160v-160H620v160Z\"/>\n",
              "  </svg>\n",
              "    </button>\n",
              "\n",
              "  <style>\n",
              "    .colab-df-container {\n",
              "      display:flex;\n",
              "      gap: 12px;\n",
              "    }\n",
              "\n",
              "    .colab-df-convert {\n",
              "      background-color: #E8F0FE;\n",
              "      border: none;\n",
              "      border-radius: 50%;\n",
              "      cursor: pointer;\n",
              "      display: none;\n",
              "      fill: #1967D2;\n",
              "      height: 32px;\n",
              "      padding: 0 0 0 0;\n",
              "      width: 32px;\n",
              "    }\n",
              "\n",
              "    .colab-df-convert:hover {\n",
              "      background-color: #E2EBFA;\n",
              "      box-shadow: 0px 1px 2px rgba(60, 64, 67, 0.3), 0px 1px 3px 1px rgba(60, 64, 67, 0.15);\n",
              "      fill: #174EA6;\n",
              "    }\n",
              "\n",
              "    .colab-df-buttons div {\n",
              "      margin-bottom: 4px;\n",
              "    }\n",
              "\n",
              "    [theme=dark] .colab-df-convert {\n",
              "      background-color: #3B4455;\n",
              "      fill: #D2E3FC;\n",
              "    }\n",
              "\n",
              "    [theme=dark] .colab-df-convert:hover {\n",
              "      background-color: #434B5C;\n",
              "      box-shadow: 0px 1px 3px 1px rgba(0, 0, 0, 0.15);\n",
              "      filter: drop-shadow(0px 1px 2px rgba(0, 0, 0, 0.3));\n",
              "      fill: #FFFFFF;\n",
              "    }\n",
              "  </style>\n",
              "\n",
              "    <script>\n",
              "      const buttonEl =\n",
              "        document.querySelector('#df-011361ef-caf0-4a8b-a0cd-fd23a3591f5a button.colab-df-convert');\n",
              "      buttonEl.style.display =\n",
              "        google.colab.kernel.accessAllowed ? 'block' : 'none';\n",
              "\n",
              "      async function convertToInteractive(key) {\n",
              "        const element = document.querySelector('#df-011361ef-caf0-4a8b-a0cd-fd23a3591f5a');\n",
              "        const dataTable =\n",
              "          await google.colab.kernel.invokeFunction('convertToInteractive',\n",
              "                                                    [key], {});\n",
              "        if (!dataTable) return;\n",
              "\n",
              "        const docLinkHtml = 'Like what you see? Visit the ' +\n",
              "          '<a target=\"_blank\" href=https://colab.research.google.com/notebooks/data_table.ipynb>data table notebook</a>'\n",
              "          + ' to learn more about interactive tables.';\n",
              "        element.innerHTML = '';\n",
              "        dataTable['output_type'] = 'display_data';\n",
              "        await google.colab.output.renderOutput(dataTable, element);\n",
              "        const docLink = document.createElement('div');\n",
              "        docLink.innerHTML = docLinkHtml;\n",
              "        element.appendChild(docLink);\n",
              "      }\n",
              "    </script>\n",
              "  </div>\n",
              "\n",
              "    </div>\n",
              "  </div>\n"
            ]
          },
          "metadata": {},
          "execution_count": 74
        }
      ]
    },
    {
      "cell_type": "code",
      "source": [
        "print('Training data shape: ', train.shape)\n",
        "fig, (ax1, ax2, ax3) = plt.subplots(ncols=3, sharey=True)\n",
        "sns.countplot(x = 'Survived',data = train, ax = ax1)\n",
        "sns.countplot(x = 'Survived',hue = 'Sex',data = train, ax = ax2)\n",
        "sns.countplot(x = 'Survived',hue = 'Pclass',data = train, ax = ax3)\n",
        "\n",
        "plt.show()"
      ],
      "metadata": {
        "id": "E4PlonxcYhes",
        "colab": {
          "base_uri": "https://localhost:8080/",
          "height": 475
        },
        "outputId": "fd3f9837-c07c-4d1f-9859-c5a517cb3b65"
      },
      "execution_count": null,
      "outputs": [
        {
          "output_type": "stream",
          "name": "stdout",
          "text": [
            "Training data shape:  (714, 11)\n"
          ]
        },
        {
          "output_type": "display_data",
          "data": {
            "text/plain": [
              "<Figure size 640x480 with 3 Axes>"
            ],
            "image/png": "[encoded data removed]"
          },
          "metadata": {}
        }
      ]
    },
    {
      "cell_type": "markdown",
      "source": [
        "Apply AdaBoost on the training data to predict if a passenger survived or not given the variables of your choosing (for a good comparison, select the same ones from HW6).\n",
        "\n",
        "Justify your choices and validate your results using the validation dataset of your choosing (remember to shuffle before spliting the data).\n",
        "\n",
        "As before, don't \"waste\" time finetuning your model, this is not a competition. Always remember that we just want to evaluate your understanding of the problem and theory.\n",
        "\n",
        "**Optional 1:** If you want to compete, you can check the result of your model test prediction on the following kaggle challenge:\n",
        "\n",
        "https://www.kaggle.com/c/titanic/data\n",
        "\n",
        "You have to export the data on the corresponding data format.\n",
        "\n",
        "**Optional 2:** Apply kfold croos validation to the problem and discuss the results."
      ],
      "metadata": {
        "id": "wINZqO52YnHl"
      }
    },
    {
      "cell_type": "code",
      "source": [
        "from sklearn.ensemble import AdaBoostClassifier"
      ],
      "metadata": {
        "id": "pHYGkOjnYmLp"
      },
      "execution_count": null,
      "outputs": []
    },
    {
      "cell_type": "code",
      "source": [
        "scaler = StandardScaler()\n",
        "# Example of training set\n",
        "x_train = np.concatenate(((train['Age']).to_numpy()[:, None], (train['Pclass']).to_numpy()[:, None], (train['Sex'].replace(['male', 'female'], [0,1]).to_numpy()[:, None])), axis = 1)\n",
        "x_train = scaler.fit_transform(x_train)\n",
        "\n",
        "y_train = train['Survived'].to_numpy(int)\n",
        "\n",
        "\n",
        "x_train, x_val, y_train, y_val = train_test_split(x_train, y_train, train_size=0.75)\n",
        "\n",
        "# Test set\n",
        "x_test = np.concatenate(((test['Age']).to_numpy()[:, None], (test['Pclass']).to_numpy()[:, None], (test['Sex'].replace(['male', 'female'], [0,1]).to_numpy()[:, None])), axis = 1)"
      ],
      "metadata": {
        "id": "LxQa-olRawio"
      },
      "execution_count": null,
      "outputs": []
    },
    {
      "cell_type": "code",
      "source": [
        "y_pred_train = np.zeros(y_train.shape)\n",
        "y_pred_val = np.zeros(y_val.shape)\n",
        "y_pred_test = np.zeros(x_test.shape[0])"
      ],
      "metadata": {
        "id": "uVnn8wTja6Hf"
      },
      "execution_count": null,
      "outputs": []
    },
    {
      "cell_type": "code",
      "source": [
        "def logResTest(Y, Y_pred):\n",
        "  \"\"\"\n",
        "  Test the SVM Model\n",
        "\n",
        "  Parameters:\n",
        "  -----------\n",
        "  `W` : Trained weights [d x 1]\n",
        "  `X` : Testing inputs [d x N]\n",
        "  `Y` : Testing Labels [1 x N]\n",
        "\n",
        "  Returns:\n",
        "  --------\n",
        "  `A` : Accuracy\n",
        "  `P` : Precision\n",
        "  `R` : Recall\n",
        "\n",
        "  \"\"\"\n",
        "  N = len(X[0])\n",
        "\n",
        "\n",
        "  A = np.mean(Y_pred == Y.T[0])\n",
        "\n",
        "\n",
        "  P = np.sum(np.logical_and(Y_pred == Y, Y_pred == 1)) / np.sum(Y_pred)\n",
        "  R = np.sum(np.logical_and(Y_pred == Y, Y_pred == 1)) / np.sum(Y)\n",
        "\n",
        "  return A, P, R"
      ],
      "metadata": {
        "id": "tKYmlbgsBbQC"
      },
      "execution_count": null,
      "outputs": []
    },
    {
      "cell_type": "code",
      "source": [
        "clf = AdaBoostClassifier(n_estimators=100, random_state=0)\n",
        "clf.fit(x_train, y_train)\n",
        "y_val_pred = clf.predict(x_val)\n",
        "y_train_pred = clf.predict(x_train)\n",
        "\n",
        "logResTest(y_val, y_val_pred)\n",
        "\n"
      ],
      "metadata": {
        "colab": {
          "base_uri": "https://localhost:8080/"
        },
        "id": "qrf8gcmG_1Wh",
        "outputId": "278a5b34-1838-463b-a1ad-3b263ba8f78e"
      },
      "execution_count": null,
      "outputs": [
        {
          "output_type": "stream",
          "name": "stdout",
          "text": [
            "[0 0 0 1 1 1 0 1 0 0 0 1 0 1 0 0 1 0 0 0 1 0 0 1 1 0 1 0 1 1 1 1 1 0 0 0 0\n",
            " 1 0 0 1 1 0 1 0 0 0 0 0 0 1 0 0 1 1 1 0 0 0 0 1 0 0 0 1 0 1 0 0 0 0 0 1 0\n",
            " 1 0 0 0 0 1 0 1 0 1 1 1 0 1 1 0 0 1 0 1 0 0 0 0 1 0 0 0 0 0 0 0 0 0 0 1 0\n",
            " 0 0 1 0 0 0 0 1 1 0 1 0 0 0 0 1 0 0 0 1 0 1 0 1 1 1 1 0 0 0 0 1 0 1 0 1 1\n",
            " 1 0 1 0 0 0 0 0 1 1 0 0 1 0 0 0 0 0 1 0 0 0 0 0 0 0 0 0 1 1 0 1 1 0 1 1 0\n",
            " 1 1 1 0 0 1 0 0 0 0 0 1 0 1 1 1 1 0 1 0 0 1 1 0 0 0 1 1 0 0 0 1 0 0 0 0 0\n",
            " 1 0 0 1 1 1 0 0 0 0 1 0 0 1 0 1 0 0 0 0 1 0 0 0 1 0 1 1 0 0 0 0 1 0 0 0 0\n",
            " 0 1 0 0 0 0 1 0 0 1 0 0 0 1 0 0 1 1 0 1 0 1 0 1 1 0 0 1 0 0 0 1 0 1 0 0 0\n",
            " 0 0 1 1 0 1 1 0 0 1 0 0 0 1 0 1 0 0 0 0 1 0 1 0 1 1 0 0 0 1 0 1 1 0 1 0 1\n",
            " 1 0 0 0 0 0 0 1 0 0 0 0 1 0 0 1 0 0 0 0 0 1 0 1 0 1 1 0 1 1 0 0 0 0 1 0 1\n",
            " 0 1 0 0 0 0 1 1 0 0 1 0 0 1 1 0 1 1 0 0 0 0 0 0 0 0 0 0 1 0 0 0 0 0 0 0 1\n",
            " 1 1 1 0 0 1 1 1 0 1 1 1 0 0 1 0 1 0 0 0 0 1 0 1 0 0 0 1 1 1 0 1 1 0 1 0 0\n",
            " 0 0 0 1 1 0 0 1 1 0 0 0 1 0 1 0 0 1 1 0 0 0 0 1 0 0 1 0 0 0 1 1 0 0 1 0 0\n",
            " 1 1 1 0 0 0 1 0 1 0 0 0 1 1 0 1 0 0 0 0 0 1 1 0 0 1 0 0 0 1 0 0 0 1 0 0 0\n",
            " 1 0 1 0 0 1 1 1 0 0 0 0 0 0 0 1 0] [0 1 0 0 1 1 1 1 0 0 0 1 1 1 0 0 1 0 0 0 1 1 0 1 0 0 1 0 1 1 1 0 1 1 0 0 0\n",
            " 0 0 1 1 0 0 0 1 0 1 0 0 0 1 0 0 0 1 1 0 0 0 0 0 0 0 0 0 0 1 0 0 0 1 0 1 0\n",
            " 1 0 0 0 0 0 0 1 0 1 1 1 0 1 1 0 0 1 0 1 0 1 0 0 0 0 0 0 0 0 0 0 0 1 0 0 1\n",
            " 1 1 1 0 1 0 0 1 1 0 1 0 0 0 1 1 0 1 1 1 0 0 0 1 0 1 1 0 1 0 0 1 0 1 0 1 1\n",
            " 0 0 1 0 0 1 0 0 0 1 0 0 0 1 0 0 0 0 1 0 0 0 0 0 1 1 0 0 0 1 0 0 1 0 1 1 0\n",
            " 1 0 0 0 1 1 0 0 0 0 0 0 0 1 1 1 1 0 0 1 0 1 0 0 0 0 1 1 0 0 0 1 1 0 0 1 0\n",
            " 1 0 0 1 1 1 0 0 0 0 0 0 0 1 0 1 1 0 0 0 1 0 0 0 1 0 1 1 0 0 0 0 0 1 0 0 0\n",
            " 0 1 0 0 0 0 1 0 0 1 0 0 0 1 0 0 1 1 0 1 0 1 0 1 1 1 0 1 0 0 0 1 1 1 0 0 0\n",
            " 0 0 0 1 0 0 1 0 1 1 0 0 0 0 1 0 1 0 0 0 1 0 0 0 1 1 0 0 0 1 0 1 1 0 1 0 1\n",
            " 1 0 0 0 0 0 0 1 0 0 0 0 1 1 0 1 0 0 0 0 0 1 0 1 0 1 1 0 1 1 0 1 0 1 1 0 1\n",
            " 0 1 0 0 0 0 1 1 0 0 1 0 0 1 1 0 0 1 0 1 0 0 0 0 1 0 0 0 1 1 0 0 0 0 0 1 0\n",
            " 1 1 1 0 0 1 1 0 0 1 1 1 0 1 0 0 1 0 0 0 0 1 0 1 0 0 0 1 1 1 0 1 0 0 1 0 1\n",
            " 0 0 1 1 1 0 1 1 1 0 0 0 1 0 1 0 0 1 1 1 1 0 0 1 0 1 0 0 1 0 1 1 0 0 0 0 0\n",
            " 0 0 1 1 0 1 1 0 1 0 0 0 1 1 0 0 0 0 0 0 0 0 1 0 0 1 1 0 0 1 0 1 0 1 0 1 0\n",
            " 1 0 1 0 0 1 1 0 0 0 0 0 0 0 0 0 0]\n"
          ]
        }
      ]
    },
    {
      "cell_type": "markdown",
      "source": [
        "Print the Confusion matrix of your prediction"
      ],
      "metadata": {
        "id": "3c9J9tIta_Tv"
      }
    },
    {
      "cell_type": "code",
      "source": [
        "from sklearn.metrics import confusion_matrix\n",
        "\n",
        "# Get the confusion matrix\n",
        "cf_matrix_train = confusion_matrix(y_train, y_train_pred)\n",
        "\n",
        "\n",
        "# Get the confusion matrix\n",
        "cf_matrix_test = confusion_matrix(y_val, y_val_pred)\n",
        "\n",
        "# Plot with sns\n",
        "\n",
        "fig, (ax1, ax2) = plt.subplots(ncols=2, sharey=True)\n",
        "sns.heatmap(cf_matrix_train, annot=True, ax = ax1).set(title='Confusion matrix (train)')\n",
        "sns.heatmap(cf_matrix_test, annot=True, ax = ax2).set(title='Confusion matrix (val)')\n",
        "\n",
        "\n",
        "plt.show()"
      ],
      "metadata": {
        "id": "Ubz2Ie3BbCyr",
        "colab": {
          "base_uri": "https://localhost:8080/",
          "height": 457
        },
        "outputId": "5e8b97b6-c287-43fa-f254-38880046dd5e"
      },
      "execution_count": null,
      "outputs": [
        {
          "output_type": "display_data",
          "data": {
            "text/plain": [
              "<Figure size 640x480 with 4 Axes>"
            ],
            "image/png": "[encoded data removed]"
          },
          "metadata": {}
        }
      ]
    },
    {
      "cell_type": "markdown",
      "source": [
        "## Question 6:\n",
        "\n",
        "Discuss and compare AdaBoost results with Logistic Regression from HW6. Which method is more adapted to the Titanic survival rate problem? Why?"
      ],
      "metadata": {
        "id": "ftMAN14XaKP8"
      }
    },
    {
      "cell_type": "markdown",
      "source": [
        "**Answer :**\n",
        "\n",
        "When we look at the metrics Precision and Recall and the confusion matrix we see that the results with adaboost are slightly better than with classic regression. It's logical since adaboost is suppose to improve performace on small dataset. However the differece might not be worth the time needed to compute adaboost istead of regression.\n"
      ],
      "metadata": {
        "id": "XUjT1MwHaFLv"
      }
    },
    {
      "cell_type": "markdown",
      "source": [
        "# References :\n",
        "- Chapter 10 of the book : Understanding Machine Learning\n",
        "- Chapter 23 of the book : Understanding Machine Learning\n"
      ],
      "metadata": {
        "id": "S6ZMv5dBPHoT"
      }
    },
    {
      "cell_type": "markdown",
      "source": [
        "# Comments of the students:\n",
        "\n",
        "To improve the experience of students that will take the course on the future any thoughtful comment or suggestion will be much appreciated!"
      ],
      "metadata": {
        "id": "zNBCR-IdwnSo"
      }
    },
    {
      "cell_type": "markdown",
      "source": [
        "**Comments:**"
      ],
      "metadata": {
        "id": "9fu1cjz2xF9Y"
      }
    }
  ],
  "metadata": {
    "colab": {
      "provenance": [],
      "toc_visible": true
    },
    "kernelspec": {
      "display_name": "Python 3 (ipykernel)",
      "language": "python",
      "name": "python3"
    },
    "language_info": {
      "codemirror_mode": {
        "name": "ipython",
        "version": 3
      },
      "file_extension": ".py",
      "mimetype": "text/x-python",
      "name": "python",
      "nbconvert_exporter": "python",
      "pygments_lexer": "ipython3",
      "version": "3.9.12"
    },
    "vscode": {
      "interpreter": {
        "hash": "ee82927b8361fe0e0ec66319841eca50b755b834055a47ec820f8a8c32106018"
      }
    }
  },
  "nbformat": 4,
  "nbformat_minor": 0
}